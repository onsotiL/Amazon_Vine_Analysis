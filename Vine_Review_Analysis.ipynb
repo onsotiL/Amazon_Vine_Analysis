{
  "nbformat": 4,
  "nbformat_minor": 0,
  "metadata": {
    "colab": {
      "name": "Vine_Review_Analysis",
      "provenance": [],
      "collapsed_sections": [],
      "authorship_tag": "ABX9TyMK2Tkl+whPFuBEDT1VtN8H",
      "include_colab_link": true
    },
    "kernelspec": {
      "name": "python3",
      "display_name": "Python 3"
    },
    "language_info": {
      "name": "python"
    }
  },
  "cells": [
    {
      "cell_type": "markdown",
      "metadata": {
        "id": "view-in-github",
        "colab_type": "text"
      },
      "source": [
        "<a href=\"https://colab.research.google.com/github/onsotiL/Amazon_Vine_Analysis/blob/main/Vine_Review_Analysis.ipynb\" target=\"_parent\"><img src=\"https://colab.research.google.com/assets/colab-badge.svg\" alt=\"Open In Colab\"/></a>"
      ]
    },
    {
      "cell_type": "code",
      "execution_count": null,
      "metadata": {
        "colab": {
          "base_uri": "https://localhost:8080/"
        },
        "id": "Azf8VvDt7opC",
        "outputId": "795aef36-8bfb-4d98-86fc-e58f5b661944"
      },
      "outputs": [
        {
          "output_type": "stream",
          "name": "stdout",
          "text": [
            "Ign:1 https://developer.download.nvidia.com/compute/cuda/repos/ubuntu1804/x86_64  InRelease\n",
            "Hit:2 https://cloud.r-project.org/bin/linux/ubuntu bionic-cran40/ InRelease\n",
            "Ign:3 https://developer.download.nvidia.com/compute/machine-learning/repos/ubuntu1804/x86_64  InRelease\n",
            "Hit:4 https://developer.download.nvidia.com/compute/cuda/repos/ubuntu1804/x86_64  Release\n",
            "Hit:5 https://developer.download.nvidia.com/compute/machine-learning/repos/ubuntu1804/x86_64  Release\n",
            "Hit:6 http://security.ubuntu.com/ubuntu bionic-security InRelease\n",
            "Hit:7 http://ppa.launchpad.net/c2d4u.team/c2d4u4.0+/ubuntu bionic InRelease\n",
            "Hit:8 http://archive.ubuntu.com/ubuntu bionic InRelease\n",
            "Hit:10 http://ppa.launchpad.net/cran/libgit2/ubuntu bionic InRelease\n",
            "Hit:11 http://archive.ubuntu.com/ubuntu bionic-updates InRelease\n",
            "Hit:13 http://archive.ubuntu.com/ubuntu bionic-backports InRelease\n",
            "Hit:14 http://ppa.launchpad.net/deadsnakes/ppa/ubuntu bionic InRelease\n",
            "Hit:15 http://ppa.launchpad.net/graphics-drivers/ppa/ubuntu bionic InRelease\n",
            "Reading package lists... Done\n"
          ]
        }
      ],
      "source": [
        "import os\n",
        "# Find the latest version of spark 3.0 from http://www.apache.org/dist/spark/ and enter as the spark version\n",
        "# For example:\n",
        "# spark_version = 'spark-3.0.3'\n",
        "spark_version = 'spark-3.0.3'\n",
        "os.environ['SPARK_VERSION']=spark_version\n",
        "\n",
        "# Install Spark and Java\n",
        "!apt-get update\n",
        "!apt-get install openjdk-11-jdk-headless -qq > /dev/null\n",
        "!wget -q http://www.apache.org/dist/spark/$SPARK_VERSION/$SPARK_VERSION-bin-hadoop2.7.tgz\n",
        "!tar xf $SPARK_VERSION-bin-hadoop2.7.tgz\n",
        "!pip install -q findspark\n",
        "\n",
        "# Set Environment Variables\n",
        "import os\n",
        "os.environ[\"JAVA_HOME\"] = \"/usr/lib/jvm/java-11-openjdk-amd64\"\n",
        "os.environ[\"SPARK_HOME\"] = f\"/content/{spark_version}-bin-hadoop2.7\"\n",
        "\n",
        "# Start a SparkSession\n",
        "import findspark\n",
        "findspark.init()"
      ]
    },
    {
      "cell_type": "code",
      "source": [
        "from pyspark.sql import SparkSession\n",
        "spark = SparkSession.builder.appName(\"M16-Amazon-Challenge\").getOrCreate()"
      ],
      "metadata": {
        "id": "e6L1FTs67ybs"
      },
      "execution_count": null,
      "outputs": []
    },
    {
      "cell_type": "code",
      "source": [
        "from pyspark import SparkFiles\n",
        "url = \"https://s3.amazonaws.com/amazon-reviews-pds/tsv/amazon_reviews_us_Video_Games_v1_00.tsv.gz\"\n",
        "spark.sparkContext.addFile(url)\n",
        "df = spark.read.option(\"encoding\", \"UTF-8\").csv(SparkFiles.get(\"\"), sep=\"\\t\", header=True, inferSchema=True)\n",
        "df.show(10)"
      ],
      "metadata": {
        "colab": {
          "base_uri": "https://localhost:8080/"
        },
        "id": "Hql0iXBi8lql",
        "outputId": "e8b07070-c9eb-4d39-a899-4495bfa59b39"
      },
      "execution_count": null,
      "outputs": [
        {
          "output_type": "stream",
          "name": "stdout",
          "text": [
            "+-----------+-----------+--------------+----------+--------------+--------------------+----------------+-----------+-------------+-----------+----+-----------------+--------------------+--------------------+-----------+\n",
            "|marketplace|customer_id|     review_id|product_id|product_parent|       product_title|product_category|star_rating|helpful_votes|total_votes|vine|verified_purchase|     review_headline|         review_body|review_date|\n",
            "+-----------+-----------+--------------+----------+--------------+--------------------+----------------+-----------+-------------+-----------+----+-----------------+--------------------+--------------------+-----------+\n",
            "|         US|   12039526| RTIS3L2M1F5SM|B001CXYMFS|     737716809|Thrustmaster T-Fl...|     Video Games|          5|            0|          0|   N|                Y|an amazing joysti...|Used this for Eli...| 2015-08-31|\n",
            "|         US|    9636577| R1ZV7R40OLHKD|B00M920ND6|     569686175|Tonsee 6 buttons ...|     Video Games|          5|            0|          0|   N|                Y|Definitely a sile...|Loved it,  I didn...| 2015-08-31|\n",
            "|         US|    2331478|R3BH071QLH8QMC|B0029CSOD2|      98937668|Hidden Mysteries:...|     Video Games|          1|            0|          1|   N|                Y|            One Star|poor quality work...| 2015-08-31|\n",
            "|         US|   52495923|R127K9NTSXA2YH|B00GOOSV98|      23143350|GelTabz Performan...|     Video Games|          3|            0|          0|   N|                Y|good, but could b...|nice, but tend to...| 2015-08-31|\n",
            "|         US|   14533949|R32ZWUXDJPW27Q|B00Y074JOM|     821342511|Zero Suit Samus a...|     Video Games|          4|            0|          0|   N|                Y|   Great but flawed.|Great amiibo, gre...| 2015-08-31|\n",
            "|         US|    2377552|R3AQQ4YUKJWBA6|B002UBI6W6|     328764615|Psyclone Recharge...|     Video Games|          1|            0|          0|   N|                Y|            One Star|The remote consta...| 2015-08-31|\n",
            "|         US|   17521011|R2F0POU5K6F73F|B008XHCLFO|      24234603|Protection for yo...|     Video Games|          5|            0|          0|   N|                Y|              A Must|I have a 2012-201...| 2015-08-31|\n",
            "|         US|   19676307|R3VNR804HYSMR6|B00BRA9R6A|     682267517|   Nerf 3DS XL Armor|     Video Games|          5|            0|          0|   N|                Y|          Five Stars|Perfect, kids lov...| 2015-08-31|\n",
            "|         US|     224068| R3GZTM72WA2QH|B009EPWJLA|     435241890|One Piece: Pirate...|     Video Games|          5|            0|          0|   N|                Y|          Five Stars|            Excelent| 2015-08-31|\n",
            "|         US|   48467989| RNQOY62705W1K|B0000AV7GB|     256572651|Playstation 2 Dan...|     Video Games|          4|            0|          0|   N|                Y|          Four Stars|Slippery but expe...| 2015-08-31|\n",
            "+-----------+-----------+--------------+----------+--------------+--------------------+----------------+-----------+-------------+-----------+----+-----------------+--------------------+--------------------+-----------+\n",
            "only showing top 10 rows\n",
            "\n"
          ]
        }
      ]
    },
    {
      "cell_type": "code",
      "source": [
        "#Filter the data and create a new DataFrame e to retrieve all the rows where the total_votes count is equal to or greater than 20\n",
        "dfone = df.filter(df.total_votes >= 20)\n",
        "dfone.show(5)"
      ],
      "metadata": {
        "colab": {
          "base_uri": "https://localhost:8080/"
        },
        "id": "j2Xi_hnf93en",
        "outputId": "0fd525bf-2cc6-4fb7-9822-d7fdd4c9d5f7"
      },
      "execution_count": null,
      "outputs": [
        {
          "output_type": "stream",
          "name": "stdout",
          "text": [
            "+-----------+-----------+--------------+----------+--------------+--------------------+----------------+-----------+-------------+-----------+----+-----------------+--------------------+--------------------+-----------+\n",
            "|marketplace|customer_id|     review_id|product_id|product_parent|       product_title|product_category|star_rating|helpful_votes|total_votes|vine|verified_purchase|     review_headline|         review_body|review_date|\n",
            "+-----------+-----------+--------------+----------+--------------+--------------------+----------------+-----------+-------------+-----------+----+-----------------+--------------------+--------------------+-----------+\n",
            "|         US|    7142190| R4PKAZRQJJX14|B00QZLVCU0|     210935604|Valve - DOTA 2 St...|     Video Games|          1|           21|         34|   N|                N|What store doesn'...|Who pays 4 dollar...| 2015-08-31|\n",
            "|         US|    1085641|R2CI0Y288CC7E2|B00RHI62GY|     626589765|ONE PIECE Pirate ...|     Video Games|          1|           21|         35|   N|                Y|i request change ...|Yesterday i recei...| 2015-08-31|\n",
            "|         US|   34170274|R127WEQY2FM1T3|B00W435BU0|     487294121|       Madden NFL 16|     Video Games|          1|          147|        175|   N|                Y|Hot Mess. Don't Buy.|This is an absolu...| 2015-08-31|\n",
            "|         US|   35781932|R3EZ0EPYLDA34S|B00PV515DU|     986164434|Sony Borderlands ...|     Video Games|          1|           14|         31|   N|                Y|The reason that I...|I ordered this it...| 2015-08-31|\n",
            "|         US|   37932477|R2FJ94555FZH32|B00WJ0Z194|     116945357|Infinity 3.0 Star...|     Video Games|          2|           55|         60|   N|                N|Some improvements...|While Infinity 3....| 2015-08-31|\n",
            "+-----------+-----------+--------------+----------+--------------+--------------------+----------------+-----------+-------------+-----------+----+-----------------+--------------------+--------------------+-----------+\n",
            "only showing top 5 rows\n",
            "\n"
          ]
        }
      ]
    },
    {
      "cell_type": "code",
      "source": [
        "#create a new DataFrame to retrieve all the rows where the number of helpful_votes divided by total_votes is equal to or greater than 50%.\n",
        "dftwo = dfone.filter((dfone.helpful_votes / dfone.total_votes) >= 0.5)\n",
        "dftwo.show(10)"
      ],
      "metadata": {
        "colab": {
          "base_uri": "https://localhost:8080/"
        },
        "id": "dhFZlTep-DlV",
        "outputId": "9f7da3bc-e4b1-4e68-96ac-a7712d66bba0"
      },
      "execution_count": null,
      "outputs": [
        {
          "output_type": "stream",
          "name": "stdout",
          "text": [
            "+-----------+-----------+--------------+----------+--------------+--------------------+----------------+-----------+-------------+-----------+----+-----------------+--------------------+--------------------+-----------+\n",
            "|marketplace|customer_id|     review_id|product_id|product_parent|       product_title|product_category|star_rating|helpful_votes|total_votes|vine|verified_purchase|     review_headline|         review_body|review_date|\n",
            "+-----------+-----------+--------------+----------+--------------+--------------------+----------------+-----------+-------------+-----------+----+-----------------+--------------------+--------------------+-----------+\n",
            "|         US|    7142190| R4PKAZRQJJX14|B00QZLVCU0|     210935604|Valve - DOTA 2 St...|     Video Games|          1|           21|         34|   N|                N|What store doesn'...|Who pays 4 dollar...| 2015-08-31|\n",
            "|         US|    1085641|R2CI0Y288CC7E2|B00RHI62GY|     626589765|ONE PIECE Pirate ...|     Video Games|          1|           21|         35|   N|                Y|i request change ...|Yesterday i recei...| 2015-08-31|\n",
            "|         US|   34170274|R127WEQY2FM1T3|B00W435BU0|     487294121|       Madden NFL 16|     Video Games|          1|          147|        175|   N|                Y|Hot Mess. Don't Buy.|This is an absolu...| 2015-08-31|\n",
            "|         US|   37932477|R2FJ94555FZH32|B00WJ0Z194|     116945357|Infinity 3.0 Star...|     Video Games|          2|           55|         60|   N|                N|Some improvements...|While Infinity 3....| 2015-08-31|\n",
            "|         US|   45782027|R1U3AR67RE273L|B00W435C0Y|     406569386|       Madden NFL 16|     Video Games|          1|           51|         65|   N|                Y|CAN'T PLAY - NO E...|I've owned a vers...| 2015-08-31|\n",
            "|         US|   26953574|R3PZOXA5X1U8KW|B00WJ0Z10S|     418299376|Infinity 3.0 Star...|     Video Games|          4|           31|         36|   N|                N|A Really Great Game!|I have never play...| 2015-08-31|\n",
            "|         US|   38235948| R6KTC1OPIOIIG|B0118GJKIW|     120888661|Xbox One 500GB Co...|     Video Games|          2|           19|         34|   N|                Y| What an experience!|When I open a pro...| 2015-08-30|\n",
            "|         US|   52553659|R36O341WWXXKNP|B00ZSJU97C|     838780144|Disney Infinity 3...|     Video Games|          5|           28|         31|   N|                N|Upgrade to Disney...|We have been play...| 2015-08-30|\n",
            "|         US|   38235948|R10LZVBLQHBVJ0|B00KAI3KW2|     289195641|Microsoft Xbox On...|     Video Games|          2|          151|        198|   N|                N| What an experience!|When I open a pro...| 2015-08-30|\n",
            "|         US|   18680918|R1VR5GLGY1GE7N|B00VE2VASY|     908454240|SmaAcc Cooling Fa...|     Video Games|          1|           49|         51|   N|                Y|If you wanted a c...|Very weak fan. Sy...| 2015-08-30|\n",
            "+-----------+-----------+--------------+----------+--------------+--------------------+----------------+-----------+-------------+-----------+----+-----------------+--------------------+--------------------+-----------+\n",
            "only showing top 10 rows\n",
            "\n"
          ]
        }
      ]
    },
    {
      "cell_type": "code",
      "source": [
        "#Create a new DataFrame that retrieves all the rows where a review was written as part of the Vine program (paid), vine == 'Y'.\n",
        "paid_vine_df = dftwo.filter(dftwo.vine == 'Y')\n",
        "paid_vine_df.show(5)"
      ],
      "metadata": {
        "colab": {
          "base_uri": "https://localhost:8080/"
        },
        "id": "qA5PtPAK-x69",
        "outputId": "f5aea516-c2d3-425d-e3de-d8a31af5c7f8"
      },
      "execution_count": null,
      "outputs": [
        {
          "output_type": "stream",
          "name": "stdout",
          "text": [
            "+-----------+-----------+--------------+----------+--------------+--------------------+----------------+-----------+-------------+-----------+----+-----------------+--------------------+--------------------+-----------+\n",
            "|marketplace|customer_id|     review_id|product_id|product_parent|       product_title|product_category|star_rating|helpful_votes|total_votes|vine|verified_purchase|     review_headline|         review_body|review_date|\n",
            "+-----------+-----------+--------------+----------+--------------+--------------------+----------------+-----------+-------------+-----------+----+-----------------+--------------------+--------------------+-----------+\n",
            "|         US|   48771843|R3KKUSGFZWSUIY|B00YXO5UXG|     555176890|Turtle Beach - Ea...|     Video Games|          5|           56|         63|   Y|                N|Quality Chat Headset|Not every situati...| 2015-08-04|\n",
            "|         US|   53080186|R10FO5UKKVZBK2|B00XO041RQ|     238654494|PDP AG7 True Wire...|     Video Games|          3|           23|         23|   Y|                N|Great sounding he...|[[VIDEOID:a9ebb8e...| 2015-08-03|\n",
            "|         US|   29202184| RM4KSGEOR7MU1|B00YXO5X4M|     832423177|Turtle Beach - Ea...|     Video Games|          5|           19|         24|   Y|                N|Definitely Worth ...|[[VIDEOID:5a58574...| 2015-07-03|\n",
            "|         US|   42836457| RG7VRMYLEXD23|B00P45U43O|     231578141|Antec X-1 Cooler ...|     Video Games|          4|           22|         26|   Y|                N|A whisper quiet c...|The Antec X-1 Coo...| 2015-04-16|\n",
            "|         US|   24021862|R11O4YSCPSNL6L|B00MNPDMEQ|     925909080|Turtle Beach - Ea...|     Video Games|          3|           20|         26|   Y|                N|A high-end gaming...|As a DJ and avid ...| 2015-02-19|\n",
            "+-----------+-----------+--------------+----------+--------------+--------------------+----------------+-----------+-------------+-----------+----+-----------------+--------------------+--------------------+-----------+\n",
            "only showing top 5 rows\n",
            "\n"
          ]
        }
      ]
    },
    {
      "cell_type": "code",
      "source": [
        "#Create a new DataFrame that retrieve all the rows where the review was not part of the Vine program (unpaid), vine == 'N'.\n",
        "upaid_vine_df = dftwo.filter(dftwo.vine == 'N')\n",
        "upaid_vine_df.show(5)"
      ],
      "metadata": {
        "colab": {
          "base_uri": "https://localhost:8080/"
        },
        "id": "4OqlSk1f_m8S",
        "outputId": "13e88e4e-d528-4fcb-8e92-fb8cea76e500"
      },
      "execution_count": null,
      "outputs": [
        {
          "output_type": "stream",
          "name": "stdout",
          "text": [
            "+-----------+-----------+--------------+----------+--------------+--------------------+----------------+-----------+-------------+-----------+----+-----------------+--------------------+--------------------+-----------+\n",
            "|marketplace|customer_id|     review_id|product_id|product_parent|       product_title|product_category|star_rating|helpful_votes|total_votes|vine|verified_purchase|     review_headline|         review_body|review_date|\n",
            "+-----------+-----------+--------------+----------+--------------+--------------------+----------------+-----------+-------------+-----------+----+-----------------+--------------------+--------------------+-----------+\n",
            "|         US|    7142190| R4PKAZRQJJX14|B00QZLVCU0|     210935604|Valve - DOTA 2 St...|     Video Games|          1|           21|         34|   N|                N|What store doesn'...|Who pays 4 dollar...| 2015-08-31|\n",
            "|         US|    1085641|R2CI0Y288CC7E2|B00RHI62GY|     626589765|ONE PIECE Pirate ...|     Video Games|          1|           21|         35|   N|                Y|i request change ...|Yesterday i recei...| 2015-08-31|\n",
            "|         US|   34170274|R127WEQY2FM1T3|B00W435BU0|     487294121|       Madden NFL 16|     Video Games|          1|          147|        175|   N|                Y|Hot Mess. Don't Buy.|This is an absolu...| 2015-08-31|\n",
            "|         US|   37932477|R2FJ94555FZH32|B00WJ0Z194|     116945357|Infinity 3.0 Star...|     Video Games|          2|           55|         60|   N|                N|Some improvements...|While Infinity 3....| 2015-08-31|\n",
            "|         US|   45782027|R1U3AR67RE273L|B00W435C0Y|     406569386|       Madden NFL 16|     Video Games|          1|           51|         65|   N|                Y|CAN'T PLAY - NO E...|I've owned a vers...| 2015-08-31|\n",
            "+-----------+-----------+--------------+----------+--------------+--------------------+----------------+-----------+-------------+-----------+----+-----------------+--------------------+--------------------+-----------+\n",
            "only showing top 5 rows\n",
            "\n"
          ]
        }
      ]
    },
    {
      "cell_type": "markdown",
      "source": [
        "**Determine the total number of reviews, the number of 5-star reviews, and the percentage of 5-star reviews for the two types of review (paid vs unpaid).**"
      ],
      "metadata": {
        "id": "lqcBPBcwAb_k"
      }
    },
    {
      "cell_type": "code",
      "source": [
        "# paid total number of reviews\n",
        "paid_total_reviews = paid_vine_df.count()\n",
        "paid_total_reviews"
      ],
      "metadata": {
        "colab": {
          "base_uri": "https://localhost:8080/"
        },
        "id": "aANDvkwrAlgL",
        "outputId": "b55e11d9-5cd9-420d-805c-aced902faae0"
      },
      "execution_count": null,
      "outputs": [
        {
          "output_type": "execute_result",
          "data": {
            "text/plain": [
              "94"
            ]
          },
          "metadata": {},
          "execution_count": 13
        }
      ]
    },
    {
      "cell_type": "code",
      "source": [
        "# unpaid total number of reviews\n",
        "unpaid_total_reviews = upaid_vine_df.count()\n",
        "unpaid_total_reviews"
      ],
      "metadata": {
        "colab": {
          "base_uri": "https://localhost:8080/"
        },
        "id": "ei20bYyvAywf",
        "outputId": "97dd02ca-3a4e-4fb1-8e73-a48fe68bb299"
      },
      "execution_count": null,
      "outputs": [
        {
          "output_type": "execute_result",
          "data": {
            "text/plain": [
              "40471"
            ]
          },
          "metadata": {},
          "execution_count": 14
        }
      ]
    },
    {
      "cell_type": "code",
      "source": [
        "# paid 5-star reviews\n",
        "paid_five_star_reviews = paid_vine_df.filter(paid_vine_df.star_rating == 5).count()\n",
        "paid_five_star_reviews"
      ],
      "metadata": {
        "colab": {
          "base_uri": "https://localhost:8080/"
        },
        "id": "BDAwzeWZBA_y",
        "outputId": "1738e8cc-2514-477b-9bb1-e286c0362244"
      },
      "execution_count": null,
      "outputs": [
        {
          "output_type": "execute_result",
          "data": {
            "text/plain": [
              "48"
            ]
          },
          "metadata": {},
          "execution_count": 15
        }
      ]
    },
    {
      "cell_type": "code",
      "source": [
        "# unpaid 5-star reviews\n",
        "unpaid_five_star_reviews = upaid_vine_df.filter(upaid_vine_df.star_rating == 5).count()\n",
        "unpaid_five_star_reviews"
      ],
      "metadata": {
        "colab": {
          "base_uri": "https://localhost:8080/"
        },
        "id": "UGxKUbW6GwHo",
        "outputId": "97ed3990-293d-439b-e471-39669ddc18d4"
      },
      "execution_count": null,
      "outputs": [
        {
          "output_type": "execute_result",
          "data": {
            "text/plain": [
              "15663"
            ]
          },
          "metadata": {},
          "execution_count": 16
        }
      ]
    },
    {
      "cell_type": "code",
      "source": [
        "# paid 5-star reviews percentage\n",
        "paid_five_star_percentage = (paid_five_star_reviews / paid_total_reviews) * 100\n",
        "paid_five_star_percentage"
      ],
      "metadata": {
        "colab": {
          "base_uri": "https://localhost:8080/"
        },
        "id": "2ryvKs3XHOIm",
        "outputId": "13e53592-4b22-40e6-e917-0d892e614b0c"
      },
      "execution_count": null,
      "outputs": [
        {
          "output_type": "execute_result",
          "data": {
            "text/plain": [
              "51.06382978723404"
            ]
          },
          "metadata": {},
          "execution_count": 17
        }
      ]
    },
    {
      "cell_type": "code",
      "source": [
        "\n",
        "# unpaid 5-star reviews percentage\n",
        "unpaid_five_star_percentage = (unpaid_five_star_reviews / unpaid_total_reviews) * 100\n",
        "unpaid_five_star_percentage"
      ],
      "metadata": {
        "colab": {
          "base_uri": "https://localhost:8080/"
        },
        "id": "eQrAnxecHi0G",
        "outputId": "9178a9c9-433e-4954-fec6-30808973e4e2"
      },
      "execution_count": null,
      "outputs": [
        {
          "output_type": "execute_result",
          "data": {
            "text/plain": [
              "38.701786464381904"
            ]
          },
          "metadata": {},
          "execution_count": 18
        }
      ]
    }
  ]
}